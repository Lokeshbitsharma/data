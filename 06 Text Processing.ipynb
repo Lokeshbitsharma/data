{
 "cells": [
  {
   "cell_type": "code",
   "execution_count": 1,
   "metadata": {
    "collapsed": true
   },
   "outputs": [],
   "source": [
    "import pandas as pd\n",
    "import json\n",
    "from nltk.stem.porter import PorterStemmer\n",
    "import nltk\n",
    "from bs4 import BeautifulSoup\n",
    "from nltk.corpus import stopwords\n",
    "import re\n",
    "from sklearn.feature_extraction.text import TfidfTransformer, TfidfVectorizer, CountVectorizer, TfidfVectorizer\n",
    "import numpy as np\n",
    "\n",
    "from sklearn.linear_model import LogisticRegression\n",
    "\n",
    "from sklearn.decomposition import PCA, TruncatedSVD, KernelPCA\n",
    "\n",
    "import matplotlib.pyplot as plt\n",
    "\n",
    "np.set_printoptions(precision=4)\n",
    "\n",
    "from sklearn.metrics import *\n",
    "from mlxtend import plotting \n",
    "\n",
    "%matplotlib inline "
   ]
  },
  {
   "cell_type": "code",
   "execution_count": 2,
   "metadata": {},
   "outputs": [
    {
     "name": "stdout",
     "output_type": "stream",
     "text": [
      "3.2.4\n"
     ]
    }
   ],
   "source": [
    "print(nltk.__version__)"
   ]
  },
  {
   "cell_type": "code",
   "execution_count": 3,
   "metadata": {
    "scrolled": true
   },
   "outputs": [
    {
     "name": "stdout",
     "output_type": "stream",
     "text": [
      "{\"label\":\"test\",\"sentiment\":\"pos\",\"name\":\"0_10.txt\",\"content\":\"I went and saw this movie last night after being coaxed to by a few friends of mine. I'll admit that I was reluctant to see it because from what I knew of Ashton Kutcher he was only able to do comedy. I was wrong. Kutcher played the character of Jake Fischer very well, and Kevin Costner played Ben Randall with such professionalism. The sign of a good movie is that it can toy with our emotions. This one did exactly that. The entire theater (which was sold out) was overcome by laughter during the first half of the movie, and were moved to tears during the second half. While exiting the theater I not only saw many women in tears, but many full grown men as well, trying desperately not to let anyone see them crying. This movie was great, and I suggest that you go see it before you judge.\"}\r\n"
     ]
    }
   ],
   "source": [
    "!head -n 1 data/imdb-comments.json"
   ]
  },
  {
   "cell_type": "code",
   "execution_count": 4,
   "metadata": {
    "collapsed": true
   },
   "outputs": [],
   "source": [
    "data = []\n",
    "with open(\"data/imdb-comments.json\", \"r\") as f:\n",
    "    for l in f.readlines():\n",
    "        data.append(json.loads(l))    "
   ]
  },
  {
   "cell_type": "code",
   "execution_count": 5,
   "metadata": {},
   "outputs": [
    {
     "data": {
      "text/html": [
       "<div>\n",
       "<style>\n",
       "    .dataframe thead tr:only-child th {\n",
       "        text-align: right;\n",
       "    }\n",
       "\n",
       "    .dataframe thead th {\n",
       "        text-align: left;\n",
       "    }\n",
       "\n",
       "    .dataframe tbody tr th {\n",
       "        vertical-align: top;\n",
       "    }\n",
       "</style>\n",
       "<table border=\"1\" class=\"dataframe\">\n",
       "  <thead>\n",
       "    <tr style=\"text-align: right;\">\n",
       "      <th></th>\n",
       "      <th>content</th>\n",
       "      <th>label</th>\n",
       "      <th>name</th>\n",
       "      <th>sentiment</th>\n",
       "    </tr>\n",
       "  </thead>\n",
       "  <tbody>\n",
       "    <tr>\n",
       "      <th>17353</th>\n",
       "      <td>The movie contains a very short scene of Deneu...</td>\n",
       "      <td>test</td>\n",
       "      <td>3118_1.txt</td>\n",
       "      <td>neg</td>\n",
       "    </tr>\n",
       "    <tr>\n",
       "      <th>46001</th>\n",
       "      <td>Can I Do it 'till I Need Glasses? at the very ...</td>\n",
       "      <td>train</td>\n",
       "      <td>6401_1.txt</td>\n",
       "      <td>neg</td>\n",
       "    </tr>\n",
       "    <tr>\n",
       "      <th>23105</th>\n",
       "      <td>Uggh! Hanna-Barbera of the 60s and 70s! What l...</td>\n",
       "      <td>test</td>\n",
       "      <td>8296_2.txt</td>\n",
       "      <td>neg</td>\n",
       "    </tr>\n",
       "    <tr>\n",
       "      <th>2477</th>\n",
       "      <td>Watching the preview of Armored I thought the ...</td>\n",
       "      <td>test</td>\n",
       "      <td>1222_8.txt</td>\n",
       "      <td>pos</td>\n",
       "    </tr>\n",
       "    <tr>\n",
       "      <th>39910</th>\n",
       "      <td>The genre of suspense films really takes a div...</td>\n",
       "      <td>train</td>\n",
       "      <td>1216_3.txt</td>\n",
       "      <td>neg</td>\n",
       "    </tr>\n",
       "    <tr>\n",
       "      <th>2239</th>\n",
       "      <td>'Night Crossing' is about an enormous barrier ...</td>\n",
       "      <td>test</td>\n",
       "      <td>12015_8.txt</td>\n",
       "      <td>pos</td>\n",
       "    </tr>\n",
       "    <tr>\n",
       "      <th>6495</th>\n",
       "      <td>As social satire, Idiocracy is just as good as...</td>\n",
       "      <td>test</td>\n",
       "      <td>4597_7.txt</td>\n",
       "      <td>pos</td>\n",
       "    </tr>\n",
       "    <tr>\n",
       "      <th>41590</th>\n",
       "      <td>As a Turkish man now living in Sweden I must c...</td>\n",
       "      <td>train</td>\n",
       "      <td>2431_1.txt</td>\n",
       "      <td>neg</td>\n",
       "    </tr>\n",
       "    <tr>\n",
       "      <th>47417</th>\n",
       "      <td>I stopped watching lost at this episode becaus...</td>\n",
       "      <td>train</td>\n",
       "      <td>7677_4.txt</td>\n",
       "      <td>neg</td>\n",
       "    </tr>\n",
       "    <tr>\n",
       "      <th>17971</th>\n",
       "      <td>It seems that there is great potential for the...</td>\n",
       "      <td>test</td>\n",
       "      <td>3675_1.txt</td>\n",
       "      <td>neg</td>\n",
       "    </tr>\n",
       "    <tr>\n",
       "      <th>38778</th>\n",
       "      <td>I watched this film alone, in the dark, and it...</td>\n",
       "      <td>train</td>\n",
       "      <td>11150_3.txt</td>\n",
       "      <td>neg</td>\n",
       "    </tr>\n",
       "    <tr>\n",
       "      <th>34266</th>\n",
       "      <td>A linear travel within a non-linear structure....</td>\n",
       "      <td>train</td>\n",
       "      <td>7090_10.txt</td>\n",
       "      <td>pos</td>\n",
       "    </tr>\n",
       "    <tr>\n",
       "      <th>14636</th>\n",
       "      <td>I got to know ÆON back in the early 90s via te...</td>\n",
       "      <td>test</td>\n",
       "      <td>11923_2.txt</td>\n",
       "      <td>neg</td>\n",
       "    </tr>\n",
       "    <tr>\n",
       "      <th>40222</th>\n",
       "      <td>Ten minutes worth of story stretched out into ...</td>\n",
       "      <td>train</td>\n",
       "      <td>12450_1.txt</td>\n",
       "      <td>neg</td>\n",
       "    </tr>\n",
       "    <tr>\n",
       "      <th>26070</th>\n",
       "      <td>When it first came out, this work by the Meyse...</td>\n",
       "      <td>train</td>\n",
       "      <td>10964_7.txt</td>\n",
       "      <td>pos</td>\n",
       "    </tr>\n",
       "    <tr>\n",
       "      <th>39449</th>\n",
       "      <td>this is a great movie. I love the series on tv...</td>\n",
       "      <td>train</td>\n",
       "      <td>11755_3.txt</td>\n",
       "      <td>neg</td>\n",
       "    </tr>\n",
       "    <tr>\n",
       "      <th>39927</th>\n",
       "      <td>What ever possessed Martin Scorcese to remake ...</td>\n",
       "      <td>train</td>\n",
       "      <td>12185_3.txt</td>\n",
       "      <td>neg</td>\n",
       "    </tr>\n",
       "    <tr>\n",
       "      <th>30370</th>\n",
       "      <td>my name is Heather and i am the girl whose sto...</td>\n",
       "      <td>train</td>\n",
       "      <td>3584_10.txt</td>\n",
       "      <td>pos</td>\n",
       "    </tr>\n",
       "    <tr>\n",
       "      <th>49125</th>\n",
       "      <td>I caught this movie at a small screening held ...</td>\n",
       "      <td>train</td>\n",
       "      <td>9213_3.txt</td>\n",
       "      <td>neg</td>\n",
       "    </tr>\n",
       "    <tr>\n",
       "      <th>32897</th>\n",
       "      <td>This cool Marvel superhero game pays proper tr...</td>\n",
       "      <td>train</td>\n",
       "      <td>5859_9.txt</td>\n",
       "      <td>pos</td>\n",
       "    </tr>\n",
       "    <tr>\n",
       "      <th>3197</th>\n",
       "      <td>This is an OK adaptation of the breath taking ...</td>\n",
       "      <td>test</td>\n",
       "      <td>1628_8.txt</td>\n",
       "      <td>pos</td>\n",
       "    </tr>\n",
       "    <tr>\n",
       "      <th>30934</th>\n",
       "      <td>I saw this film in a London cinema in 1975 and...</td>\n",
       "      <td>train</td>\n",
       "      <td>4091_7.txt</td>\n",
       "      <td>pos</td>\n",
       "    </tr>\n",
       "    <tr>\n",
       "      <th>34876</th>\n",
       "      <td>This movie changed it all for me...I heard of ...</td>\n",
       "      <td>train</td>\n",
       "      <td>763_10.txt</td>\n",
       "      <td>pos</td>\n",
       "    </tr>\n",
       "    <tr>\n",
       "      <th>23380</th>\n",
       "      <td>Franco films can be divided into 4 categories-...</td>\n",
       "      <td>test</td>\n",
       "      <td>8543_1.txt</td>\n",
       "      <td>neg</td>\n",
       "    </tr>\n",
       "    <tr>\n",
       "      <th>8833</th>\n",
       "      <td>Lifeforce is certainly one of Tobe Hooper's be...</td>\n",
       "      <td>test</td>\n",
       "      <td>6700_7.txt</td>\n",
       "      <td>pos</td>\n",
       "    </tr>\n",
       "  </tbody>\n",
       "</table>\n",
       "</div>"
      ],
      "text/plain": [
       "                                                 content  label         name  \\\n",
       "17353  The movie contains a very short scene of Deneu...   test   3118_1.txt   \n",
       "46001  Can I Do it 'till I Need Glasses? at the very ...  train   6401_1.txt   \n",
       "23105  Uggh! Hanna-Barbera of the 60s and 70s! What l...   test   8296_2.txt   \n",
       "2477   Watching the preview of Armored I thought the ...   test   1222_8.txt   \n",
       "39910  The genre of suspense films really takes a div...  train   1216_3.txt   \n",
       "2239   'Night Crossing' is about an enormous barrier ...   test  12015_8.txt   \n",
       "6495   As social satire, Idiocracy is just as good as...   test   4597_7.txt   \n",
       "41590  As a Turkish man now living in Sweden I must c...  train   2431_1.txt   \n",
       "47417  I stopped watching lost at this episode becaus...  train   7677_4.txt   \n",
       "17971  It seems that there is great potential for the...   test   3675_1.txt   \n",
       "38778  I watched this film alone, in the dark, and it...  train  11150_3.txt   \n",
       "34266  A linear travel within a non-linear structure....  train  7090_10.txt   \n",
       "14636  I got to know ÆON back in the early 90s via te...   test  11923_2.txt   \n",
       "40222  Ten minutes worth of story stretched out into ...  train  12450_1.txt   \n",
       "26070  When it first came out, this work by the Meyse...  train  10964_7.txt   \n",
       "39449  this is a great movie. I love the series on tv...  train  11755_3.txt   \n",
       "39927  What ever possessed Martin Scorcese to remake ...  train  12185_3.txt   \n",
       "30370  my name is Heather and i am the girl whose sto...  train  3584_10.txt   \n",
       "49125  I caught this movie at a small screening held ...  train   9213_3.txt   \n",
       "32897  This cool Marvel superhero game pays proper tr...  train   5859_9.txt   \n",
       "3197   This is an OK adaptation of the breath taking ...   test   1628_8.txt   \n",
       "30934  I saw this film in a London cinema in 1975 and...  train   4091_7.txt   \n",
       "34876  This movie changed it all for me...I heard of ...  train   763_10.txt   \n",
       "23380  Franco films can be divided into 4 categories-...   test   8543_1.txt   \n",
       "8833   Lifeforce is certainly one of Tobe Hooper's be...   test   6700_7.txt   \n",
       "\n",
       "      sentiment  \n",
       "17353       neg  \n",
       "46001       neg  \n",
       "23105       neg  \n",
       "2477        pos  \n",
       "39910       neg  \n",
       "2239        pos  \n",
       "6495        pos  \n",
       "41590       neg  \n",
       "47417       neg  \n",
       "17971       neg  \n",
       "38778       neg  \n",
       "34266       pos  \n",
       "14636       neg  \n",
       "40222       neg  \n",
       "26070       pos  \n",
       "39449       neg  \n",
       "39927       neg  \n",
       "30370       pos  \n",
       "49125       neg  \n",
       "32897       pos  \n",
       "3197        pos  \n",
       "30934       pos  \n",
       "34876       pos  \n",
       "23380       neg  \n",
       "8833        pos  "
      ]
     },
     "execution_count": 5,
     "metadata": {},
     "output_type": "execute_result"
    }
   ],
   "source": [
    "comments = pd.DataFrame.from_dict(data)\n",
    "comments.sample(25)"
   ]
  },
  {
   "cell_type": "code",
   "execution_count": 6,
   "metadata": {},
   "outputs": [
    {
     "name": "stdout",
     "output_type": "stream",
     "text": [
      "<class 'pandas.core.frame.DataFrame'>\n",
      "RangeIndex: 50000 entries, 0 to 49999\n",
      "Data columns (total 4 columns):\n",
      "content      50000 non-null object\n",
      "label        50000 non-null object\n",
      "name         50000 non-null object\n",
      "sentiment    50000 non-null object\n",
      "dtypes: object(4)\n",
      "memory usage: 1.5+ MB\n"
     ]
    }
   ],
   "source": [
    "comments.info()"
   ]
  },
  {
   "cell_type": "code",
   "execution_count": 7,
   "metadata": {},
   "outputs": [
    {
     "data": {
      "text/plain": [
       "train    25000\n",
       "test     25000\n",
       "Name: label, dtype: int64"
      ]
     },
     "execution_count": 7,
     "metadata": {},
     "output_type": "execute_result"
    }
   ],
   "source": [
    "comments.label.value_counts()"
   ]
  },
  {
   "cell_type": "code",
   "execution_count": 8,
   "metadata": {},
   "outputs": [
    {
     "data": {
      "text/html": [
       "<div>\n",
       "<style>\n",
       "    .dataframe thead tr:only-child th {\n",
       "        text-align: right;\n",
       "    }\n",
       "\n",
       "    .dataframe thead th {\n",
       "        text-align: left;\n",
       "    }\n",
       "\n",
       "    .dataframe tbody tr th {\n",
       "        vertical-align: top;\n",
       "    }\n",
       "</style>\n",
       "<table border=\"1\" class=\"dataframe\">\n",
       "  <thead>\n",
       "    <tr style=\"text-align: right;\">\n",
       "      <th>sentiment</th>\n",
       "      <th>neg</th>\n",
       "      <th>pos</th>\n",
       "    </tr>\n",
       "    <tr>\n",
       "      <th>label</th>\n",
       "      <th></th>\n",
       "      <th></th>\n",
       "    </tr>\n",
       "  </thead>\n",
       "  <tbody>\n",
       "    <tr>\n",
       "      <th>test</th>\n",
       "      <td>12500</td>\n",
       "      <td>12500</td>\n",
       "    </tr>\n",
       "    <tr>\n",
       "      <th>train</th>\n",
       "      <td>12500</td>\n",
       "      <td>12500</td>\n",
       "    </tr>\n",
       "  </tbody>\n",
       "</table>\n",
       "</div>"
      ],
      "text/plain": [
       "sentiment    neg    pos\n",
       "label                  \n",
       "test       12500  12500\n",
       "train      12500  12500"
      ]
     },
     "execution_count": 8,
     "metadata": {},
     "output_type": "execute_result"
    }
   ],
   "source": [
    "comments.groupby([\"label\", \"sentiment\"]).content.count().unstack()"
   ]
  },
  {
   "cell_type": "code",
   "execution_count": 9,
   "metadata": {},
   "outputs": [
    {
     "data": {
      "text/plain": [
       "\"You don't have to spend much time watching this made for TV movie or series pilot or whatever it was intended to be to figure out just what lies in store. The incredibly bad musical score makes its debut from the start. Seriously, if this isn't the worst theme I've ever heard, I certainly can't remember it. While the acting talent is available here, from Jeff Bridges to Carl Betz, Vera Miles, and Sal Mineo, the writing is atrocious and the story is contrived, filled with insipid stereotypes, and an obvious ripoff from Ken Kesey. Why must Hollywood always present tales from the sixties as if the so-called hippies were all unidimensional morons? It's too bad that such an interesting era in our exceptionally conformist social experience is generally depicted by out and out garbage so that the least offensive of the genre is now accepted as reasonably authentic when almost none of it comes even close to the way things really were. The best I've seen to date is a memoir called Looking Back by a guy named Becker, but who else has even heard of it? No one in Hollywood, that's for sure. They're too busy pushing tripe like this groaner of a movie to bother with reality.\""
      ]
     },
     "execution_count": 9,
     "metadata": {},
     "output_type": "execute_result"
    }
   ],
   "source": [
    "v = list(comments[\"content\"].sample(1))[0]\n",
    "v"
   ]
  },
  {
   "cell_type": "code",
   "execution_count": 10,
   "metadata": {
    "scrolled": false
   },
   "outputs": [
    {
     "data": {
      "text/plain": [
       "'you don t have to spend much time watching this made for tv movie or series pilot or whatever it was intended to be to figure out just what lies in store the incredibly bad musical score makes its debut from the start seriously if this isn t the worst theme i ve ever heard i certainly can t remember it while the acting talent is available here from jeff bridges to carl betz vera miles and sal mineo the writing is atrocious and the story is contrived filled with insipid stereotypes and an obvious ripoff from ken kesey why must hollywood always present tales from the sixties as if the so called hippies were all unidimensional morons it s too bad that such an interesting era in our exceptionally conformist social experience is generally depicted by out and out garbage so that the least offensive of the genre is now accepted as reasonably authentic when almost none of it comes even close to the way things really were the best i ve seen to date is a memoir called looking back by a guy named becker but who else has even heard of it no one in hollywood that s for sure they re too busy pushing tripe like this groaner of a movie to bother with reality '"
      ]
     },
     "execution_count": 10,
     "metadata": {},
     "output_type": "execute_result"
    }
   ],
   "source": [
    "def preprocess(text):\n",
    "    text = BeautifulSoup(text, \"html5lib\").text.lower() #removed html tags\n",
    "    text = re.sub(\"[\\W]+\", \" \", text)\n",
    "    return text\n",
    "\n",
    "preprocess(v)"
   ]
  },
  {
   "cell_type": "code",
   "execution_count": 11,
   "metadata": {
    "collapsed": true
   },
   "outputs": [],
   "source": [
    "comments[\"content\"] = comments[\"content\"].apply(preprocess)"
   ]
  },
  {
   "cell_type": "code",
   "execution_count": 12,
   "metadata": {},
   "outputs": [
    {
     "data": {
      "text/html": [
       "<div>\n",
       "<style>\n",
       "    .dataframe thead tr:only-child th {\n",
       "        text-align: right;\n",
       "    }\n",
       "\n",
       "    .dataframe thead th {\n",
       "        text-align: left;\n",
       "    }\n",
       "\n",
       "    .dataframe tbody tr th {\n",
       "        vertical-align: top;\n",
       "    }\n",
       "</style>\n",
       "<table border=\"1\" class=\"dataframe\">\n",
       "  <thead>\n",
       "    <tr style=\"text-align: right;\">\n",
       "      <th></th>\n",
       "      <th>content</th>\n",
       "      <th>label</th>\n",
       "      <th>name</th>\n",
       "      <th>sentiment</th>\n",
       "    </tr>\n",
       "  </thead>\n",
       "  <tbody>\n",
       "    <tr>\n",
       "      <th>32265</th>\n",
       "      <td>if you want to be cynical and pedantic you cou...</td>\n",
       "      <td>train</td>\n",
       "      <td>528_9.txt</td>\n",
       "      <td>pos</td>\n",
       "    </tr>\n",
       "    <tr>\n",
       "      <th>49576</th>\n",
       "      <td>silly simplistic and short gun crazy volume 1 ...</td>\n",
       "      <td>train</td>\n",
       "      <td>961_1.txt</td>\n",
       "      <td>neg</td>\n",
       "    </tr>\n",
       "    <tr>\n",
       "      <th>28245</th>\n",
       "      <td>rock solid giallo from a master filmmaker of t...</td>\n",
       "      <td>train</td>\n",
       "      <td>1671_8.txt</td>\n",
       "      <td>pos</td>\n",
       "    </tr>\n",
       "    <tr>\n",
       "      <th>33844</th>\n",
       "      <td>sabrina the teenage witch was one of my favori...</td>\n",
       "      <td>train</td>\n",
       "      <td>6710_10.txt</td>\n",
       "      <td>pos</td>\n",
       "    </tr>\n",
       "    <tr>\n",
       "      <th>48379</th>\n",
       "      <td>i am working my way through the chilling class...</td>\n",
       "      <td>train</td>\n",
       "      <td>8542_2.txt</td>\n",
       "      <td>neg</td>\n",
       "    </tr>\n",
       "    <tr>\n",
       "      <th>44692</th>\n",
       "      <td>shamefull as it may be this movie actually mad...</td>\n",
       "      <td>train</td>\n",
       "      <td>5223_1.txt</td>\n",
       "      <td>neg</td>\n",
       "    </tr>\n",
       "    <tr>\n",
       "      <th>38978</th>\n",
       "      <td>giant is one of the most boring overly long h...</td>\n",
       "      <td>train</td>\n",
       "      <td>11330_4.txt</td>\n",
       "      <td>neg</td>\n",
       "    </tr>\n",
       "    <tr>\n",
       "      <th>39645</th>\n",
       "      <td>olivier gruner stars as jacques a foreign exch...</td>\n",
       "      <td>train</td>\n",
       "      <td>11931_2.txt</td>\n",
       "      <td>neg</td>\n",
       "    </tr>\n",
       "    <tr>\n",
       "      <th>48171</th>\n",
       "      <td>wanda nevada is a pubescent fantasy movie usin...</td>\n",
       "      <td>train</td>\n",
       "      <td>8355_2.txt</td>\n",
       "      <td>neg</td>\n",
       "    </tr>\n",
       "    <tr>\n",
       "      <th>36714</th>\n",
       "      <td>before i start i should point out that i know ...</td>\n",
       "      <td>train</td>\n",
       "      <td>9294_7.txt</td>\n",
       "      <td>pos</td>\n",
       "    </tr>\n",
       "  </tbody>\n",
       "</table>\n",
       "</div>"
      ],
      "text/plain": [
       "                                                 content  label         name  \\\n",
       "32265  if you want to be cynical and pedantic you cou...  train    528_9.txt   \n",
       "49576  silly simplistic and short gun crazy volume 1 ...  train    961_1.txt   \n",
       "28245  rock solid giallo from a master filmmaker of t...  train   1671_8.txt   \n",
       "33844  sabrina the teenage witch was one of my favori...  train  6710_10.txt   \n",
       "48379  i am working my way through the chilling class...  train   8542_2.txt   \n",
       "44692  shamefull as it may be this movie actually mad...  train   5223_1.txt   \n",
       "38978   giant is one of the most boring overly long h...  train  11330_4.txt   \n",
       "39645  olivier gruner stars as jacques a foreign exch...  train  11931_2.txt   \n",
       "48171  wanda nevada is a pubescent fantasy movie usin...  train   8355_2.txt   \n",
       "36714  before i start i should point out that i know ...  train   9294_7.txt   \n",
       "\n",
       "      sentiment  \n",
       "32265       pos  \n",
       "49576       neg  \n",
       "28245       pos  \n",
       "33844       pos  \n",
       "48379       neg  \n",
       "44692       neg  \n",
       "38978       neg  \n",
       "39645       neg  \n",
       "48171       neg  \n",
       "36714       pos  "
      ]
     },
     "execution_count": 12,
     "metadata": {},
     "output_type": "execute_result"
    }
   ],
   "source": [
    "comments_train = comments[comments[\"label\"] == \"train\"]\n",
    "comments_train.sample(10)"
   ]
  },
  {
   "cell_type": "code",
   "execution_count": 13,
   "metadata": {
    "scrolled": true
   },
   "outputs": [
    {
     "data": {
      "text/html": [
       "<div>\n",
       "<style>\n",
       "    .dataframe thead tr:only-child th {\n",
       "        text-align: right;\n",
       "    }\n",
       "\n",
       "    .dataframe thead th {\n",
       "        text-align: left;\n",
       "    }\n",
       "\n",
       "    .dataframe tbody tr th {\n",
       "        vertical-align: top;\n",
       "    }\n",
       "</style>\n",
       "<table border=\"1\" class=\"dataframe\">\n",
       "  <thead>\n",
       "    <tr style=\"text-align: right;\">\n",
       "      <th></th>\n",
       "      <th>content</th>\n",
       "      <th>label</th>\n",
       "      <th>name</th>\n",
       "      <th>sentiment</th>\n",
       "    </tr>\n",
       "  </thead>\n",
       "  <tbody>\n",
       "    <tr>\n",
       "      <th>15720</th>\n",
       "      <td>perfect double bill for the horribly corny bev...</td>\n",
       "      <td>test</td>\n",
       "      <td>1649_2.txt</td>\n",
       "      <td>neg</td>\n",
       "    </tr>\n",
       "    <tr>\n",
       "      <th>18170</th>\n",
       "      <td>what a turd i like john leguizamo but man this...</td>\n",
       "      <td>test</td>\n",
       "      <td>3854_1.txt</td>\n",
       "      <td>neg</td>\n",
       "    </tr>\n",
       "    <tr>\n",
       "      <th>13541</th>\n",
       "      <td>oh my oh this is a really bad movie the acting...</td>\n",
       "      <td>test</td>\n",
       "      <td>10938_1.txt</td>\n",
       "      <td>neg</td>\n",
       "    </tr>\n",
       "    <tr>\n",
       "      <th>2580</th>\n",
       "      <td>an exquisite film they just don t make them li...</td>\n",
       "      <td>test</td>\n",
       "      <td>12322_8.txt</td>\n",
       "      <td>pos</td>\n",
       "    </tr>\n",
       "    <tr>\n",
       "      <th>16614</th>\n",
       "      <td>i watched about an hour of this movie against ...</td>\n",
       "      <td>test</td>\n",
       "      <td>2453_1.txt</td>\n",
       "      <td>neg</td>\n",
       "    </tr>\n",
       "    <tr>\n",
       "      <th>899</th>\n",
       "      <td>i saw this film at the 2004 toronto internatio...</td>\n",
       "      <td>test</td>\n",
       "      <td>1080_8.txt</td>\n",
       "      <td>pos</td>\n",
       "    </tr>\n",
       "    <tr>\n",
       "      <th>9300</th>\n",
       "      <td>there are few films that deal with things that...</td>\n",
       "      <td>test</td>\n",
       "      <td>7120_10.txt</td>\n",
       "      <td>pos</td>\n",
       "    </tr>\n",
       "    <tr>\n",
       "      <th>22299</th>\n",
       "      <td>this has to be one of the most awfully scripte...</td>\n",
       "      <td>test</td>\n",
       "      <td>7570_2.txt</td>\n",
       "      <td>neg</td>\n",
       "    </tr>\n",
       "    <tr>\n",
       "      <th>14867</th>\n",
       "      <td>this movie was pure genius john waters is bril...</td>\n",
       "      <td>test</td>\n",
       "      <td>12130_1.txt</td>\n",
       "      <td>neg</td>\n",
       "    </tr>\n",
       "    <tr>\n",
       "      <th>13169</th>\n",
       "      <td>i thought this movie was horrible i was bored ...</td>\n",
       "      <td>test</td>\n",
       "      <td>10602_2.txt</td>\n",
       "      <td>neg</td>\n",
       "    </tr>\n",
       "  </tbody>\n",
       "</table>\n",
       "</div>"
      ],
      "text/plain": [
       "                                                 content label         name  \\\n",
       "15720  perfect double bill for the horribly corny bev...  test   1649_2.txt   \n",
       "18170  what a turd i like john leguizamo but man this...  test   3854_1.txt   \n",
       "13541  oh my oh this is a really bad movie the acting...  test  10938_1.txt   \n",
       "2580   an exquisite film they just don t make them li...  test  12322_8.txt   \n",
       "16614  i watched about an hour of this movie against ...  test   2453_1.txt   \n",
       "899    i saw this film at the 2004 toronto internatio...  test   1080_8.txt   \n",
       "9300   there are few films that deal with things that...  test  7120_10.txt   \n",
       "22299  this has to be one of the most awfully scripte...  test   7570_2.txt   \n",
       "14867  this movie was pure genius john waters is bril...  test  12130_1.txt   \n",
       "13169  i thought this movie was horrible i was bored ...  test  10602_2.txt   \n",
       "\n",
       "      sentiment  \n",
       "15720       neg  \n",
       "18170       neg  \n",
       "13541       neg  \n",
       "2580        pos  \n",
       "16614       neg  \n",
       "899         pos  \n",
       "9300        pos  \n",
       "22299       neg  \n",
       "14867       neg  \n",
       "13169       neg  "
      ]
     },
     "execution_count": 13,
     "metadata": {},
     "output_type": "execute_result"
    }
   ],
   "source": [
    "comments_test = comments[comments[\"label\"] == \"test\"]\n",
    "comments_test.sample(10)"
   ]
  },
  {
   "cell_type": "code",
   "execution_count": 14,
   "metadata": {
    "collapsed": true
   },
   "outputs": [],
   "source": [
    "X_train = comments_train[\"content\"].values\n",
    "y_train = comments_train[\"sentiment\"].apply(lambda v: 1 if v == \"pos\" else 0)"
   ]
  },
  {
   "cell_type": "code",
   "execution_count": 15,
   "metadata": {
    "collapsed": true
   },
   "outputs": [],
   "source": [
    "X_test = comments_test[\"content\"].values\n",
    "y_test = comments_test[\"sentiment\"].apply(lambda v: 1 if v == \"pos\" else 0)"
   ]
  },
  {
   "cell_type": "code",
   "execution_count": 16,
   "metadata": {},
   "outputs": [
    {
     "name": "stdout",
     "output_type": "stream",
     "text": [
      "revival reviv\n",
      "allowance allow\n",
      "inference infer\n",
      "relational relat\n"
     ]
    }
   ],
   "source": [
    "# http://snowball.tartarus.org/algorithms/porter/stemmer.html\n",
    "porter = PorterStemmer()\n",
    "for s in \"revival allowance inference relational\".split():\n",
    "    print(s, porter.stem(s))"
   ]
  },
  {
   "cell_type": "code",
   "execution_count": 19,
   "metadata": {},
   "outputs": [
    {
     "name": "stdout",
     "output_type": "stream",
     "text": [
      "TFIDF matrix: \n",
      " [[ 0.6354  0.2118  0.      0.4236  0.5455  0.      0.2727  0.    ]\n",
      " [ 0.4409  0.7349  0.      0.294   0.      0.1893  0.      0.3785]\n",
      " [ 0.6419  0.4814  0.1358  0.3209  0.4133  0.1033  0.1033  0.2066]]\n",
      "Vocabulary:  {'h': 3, 'e': 1, ' ': 0, 'u': 6, 'n': 4, 'w': 7, 'r': 5, 'g': 2}\n"
     ]
    }
   ],
   "source": [
    "stop = stopwords.words(\"english\")\n",
    "tfidf = TfidfVectorizer(tokenizer=porter.stem, ngram_range=(1, 1), stop_words = stop)\n",
    "\n",
    "docs = [\"The sun is shining\", \"The weather is sweet\", \"the sun is shining and the weather is sweet\"]\n",
    "print(\"TFIDF matrix: \\n\", tfidf.fit_transform(docs).toarray())\n",
    "print(\"Vocabulary: \", tfidf.vocabulary_)"
   ]
  },
  {
   "cell_type": "code",
   "execution_count": 20,
   "metadata": {
    "collapsed": true
   },
   "outputs": [],
   "source": [
    "X_train_tfidf = tfidf.fit_transform(X_train)"
   ]
  },
  {
   "cell_type": "code",
   "execution_count": 23,
   "metadata": {
    "collapsed": true
   },
   "outputs": [],
   "source": [
    "X_test_tfidf = tfidf.transform(X_test)"
   ]
  },
  {
   "cell_type": "code",
   "execution_count": 24,
   "metadata": {
    "collapsed": true
   },
   "outputs": [],
   "source": [
    "pca = TruncatedSVD(n_components=2, random_state=0, n_iter=100)\n",
    "X_train_pca = pca.fit_transform(X_train_tfidf)"
   ]
  },
  {
   "cell_type": "code",
   "execution_count": 25,
   "metadata": {},
   "outputs": [
    {
     "data": {
      "text/plain": [
       "<matplotlib.collections.PathCollection at 0x118126c88>"
      ]
     },
     "execution_count": 25,
     "metadata": {},
     "output_type": "execute_result"
    },
    {
     "data": {
      "image/png": "[encoded data removed]",
      "text/plain": [
       "<matplotlib.figure.Figure at 0x118022ac8>"
      ]
     },
     "metadata": {},
     "output_type": "display_data"
    }
   ],
   "source": [
    "plt.scatter(X_train_pca[:, 0], X_train_pca[:, 1])"
   ]
  },
  {
   "cell_type": "code",
   "execution_count": 26,
   "metadata": {},
   "outputs": [
    {
     "data": {
      "text/plain": [
       "(25000, 2)"
      ]
     },
     "execution_count": 26,
     "metadata": {},
     "output_type": "execute_result"
    }
   ],
   "source": [
    "X_train_pca.shape"
   ]
  },
  {
   "cell_type": "code",
   "execution_count": 27,
   "metadata": {},
   "outputs": [
    {
     "data": {
      "text/plain": [
       "array([ 0.0045,  0.2316])"
      ]
     },
     "execution_count": 27,
     "metadata": {},
     "output_type": "execute_result"
    }
   ],
   "source": [
    "pca.explained_variance_ratio_"
   ]
  },
  {
   "cell_type": "code",
   "execution_count": 28,
   "metadata": {},
   "outputs": [
    {
     "data": {
      "text/plain": [
       "LogisticRegression(C=10, class_weight=None, dual=False, fit_intercept=True,\n",
       "          intercept_scaling=1, max_iter=100, multi_class='ovr', n_jobs=1,\n",
       "          penalty='l2', random_state=0, solver='liblinear', tol=0.0001,\n",
       "          verbose=0, warm_start=False)"
      ]
     },
     "execution_count": 28,
     "metadata": {},
     "output_type": "execute_result"
    }
   ],
   "source": [
    "lgx = LogisticRegression(C = 10, random_state = 0)\n",
    "lgx.fit(X_train_tfidf, y_train)"
   ]
  },
  {
   "cell_type": "code",
   "execution_count": 29,
   "metadata": {
    "collapsed": true
   },
   "outputs": [],
   "source": [
    "y_test_pred = lgx.predict(X_test_tfidf)"
   ]
  },
  {
   "cell_type": "code",
   "execution_count": 30,
   "metadata": {},
   "outputs": [
    {
     "name": "stdout",
     "output_type": "stream",
     "text": [
      "accuracy:  0.61104 \n",
      "precision:  0.613361646521 \n",
      "recall:  0.6008 \n",
      "f1: 0.607015842224\n"
     ]
    }
   ],
   "source": [
    "print(\"accuracy: \", accuracy_score(y_test, y_test_pred), \n",
    "      \"\\nprecision: \", precision_score(y_test, y_test_pred), \n",
    "      \"\\nrecall: \", recall_score(y_test, y_test_pred), \n",
    "      \"\\nf1:\", f1_score(y_test, y_test_pred))"
   ]
  },
  {
   "cell_type": "code",
   "execution_count": 31,
   "metadata": {},
   "outputs": [
    {
     "data": {
      "text/plain": [
       "(<matplotlib.figure.Figure at 0x1178c68d0>,\n",
       " <matplotlib.axes._subplots.AxesSubplot at 0x1179a9550>)"
      ]
     },
     "execution_count": 31,
     "metadata": {},
     "output_type": "execute_result"
    },
    {
     "data": {
      "image/png": "[encoded data removed]",
      "text/plain": [
       "<matplotlib.figure.Figure at 0x1178c68d0>"
      ]
     },
     "metadata": {},
     "output_type": "display_data"
    }
   ],
   "source": [
    "plotting.plot_confusion_matrix(confusion_matrix(y_test, y_test_pred), figsize=(5.5, 5.5))"
   ]
  },
  {
   "cell_type": "code",
   "execution_count": 32,
   "metadata": {},
   "outputs": [
    {
     "data": {
      "text/plain": [
       "<matplotlib.text.Text at 0x117e96a58>"
      ]
     },
     "execution_count": 32,
     "metadata": {},
     "output_type": "execute_result"
    },
    {
     "data": {
      "image/png": "[encoded data removed]",
      "text/plain": [
       "<matplotlib.figure.Figure at 0x1179bff28>"
      ]
     },
     "metadata": {},
     "output_type": "display_data"
    }
   ],
   "source": [
    "fpr, tpr, thresholds = roc_curve(y_test, lgx.predict_proba(X_test_tfidf)[:, [1]])\n",
    "\n",
    "plt.figure(figsize=(10, 8))\n",
    "plt.plot(fpr, tpr)\n",
    "plt.ylim(0, 1)\n",
    "plt.xlim(0, 1)\n",
    "plt.plot([0,1], [0,1], ls = \"--\", color = \"k\")\n",
    "plt.xlabel(\"False Postive Rate\")\n",
    "plt.ylabel(\"True Positive Rate\")\n",
    "plt.title(\"ROC Curve\")"
   ]
  },
  {
   "cell_type": "code",
   "execution_count": null,
   "metadata": {
    "collapsed": true
   },
   "outputs": [],
   "source": []
  }
 ],
 "metadata": {
  "kernelspec": {
   "display_name": "Python 3",
   "language": "python",
   "name": "python3"
  },
  "language_info": {
   "codemirror_mode": {
    "name": "ipython",
    "version": 3
   },
   "file_extension": ".py",
   "mimetype": "text/x-python",
   "name": "python",
   "nbconvert_exporter": "python",
   "pygments_lexer": "ipython3",
   "version": "3.6.2"
  }
 },
 "nbformat": 4,
 "nbformat_minor": 1
}
